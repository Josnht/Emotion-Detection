{
 "cells": [
  {
   "cell_type": "code",
   "execution_count": 2,
   "id": "dbf55900",
   "metadata": {},
   "outputs": [
    {
     "name": "stdout",
     "output_type": "stream",
     "text": [
      "Collecting opencv-python\n",
      "  Downloading opencv_python-4.7.0.72-cp37-abi3-win_amd64.whl (38.2 MB)\n",
      "     --------------------------------------- 38.2/38.2 MB 13.9 MB/s eta 0:00:00\n",
      "Requirement already satisfied: numpy>=1.17.0 in e:\\software\\anaconda3\\lib\\site-packages (from opencv-python) (1.23.5)\n",
      "Installing collected packages: opencv-python\n",
      "Successfully installed opencv-python-4.7.0.72\n",
      "Note: you may need to restart the kernel to use updated packages.\n"
     ]
    }
   ],
   "source": [
    "pip install opencv-python"
   ]
  },
  {
   "cell_type": "code",
   "execution_count": 2,
   "id": "fdb4f269",
   "metadata": {},
   "outputs": [
    {
     "name": "stdout",
     "output_type": "stream",
     "text": [
      "Note: you may need to restart the kernel to use updated packages.\n",
      "Collecting keras\n",
      "  Using cached keras-2.12.0-py2.py3-none-any.whl (1.7 MB)\n",
      "Installing collected packages: keras\n",
      "Successfully installed keras-2.12.0\n"
     ]
    }
   ],
   "source": [
    "pip install keras"
   ]
  },
  {
   "cell_type": "code",
   "execution_count": 3,
   "id": "2eff3656",
   "metadata": {},
   "outputs": [
    {
     "name": "stdout",
     "output_type": "stream",
     "text": [
      "Requirement already satisfied: tensorflow in e:\\software\\anaconda3\\lib\\site-packages (2.12.0)Note: you may need to restart the kernel to use updated packages.\n",
      "\n",
      "Requirement already satisfied: tensorflow-intel==2.12.0 in e:\\software\\anaconda3\\lib\\site-packages (from tensorflow) (2.12.0)\n",
      "Requirement already satisfied: tensorflow-io-gcs-filesystem>=0.23.1 in e:\\software\\anaconda3\\lib\\site-packages (from tensorflow-intel==2.12.0->tensorflow) (0.31.0)\n",
      "Requirement already satisfied: six>=1.12.0 in e:\\software\\anaconda3\\lib\\site-packages (from tensorflow-intel==2.12.0->tensorflow) (1.16.0)\n",
      "Requirement already satisfied: h5py>=2.9.0 in e:\\software\\anaconda3\\lib\\site-packages (from tensorflow-intel==2.12.0->tensorflow) (3.7.0)\n",
      "Requirement already satisfied: packaging in e:\\software\\anaconda3\\lib\\site-packages (from tensorflow-intel==2.12.0->tensorflow) (22.0)\n",
      "Requirement already satisfied: typing-extensions>=3.6.6 in e:\\software\\anaconda3\\lib\\site-packages (from tensorflow-intel==2.12.0->tensorflow) (4.4.0)\n",
      "Requirement already satisfied: opt-einsum>=2.3.2 in e:\\software\\anaconda3\\lib\\site-packages (from tensorflow-intel==2.12.0->tensorflow) (3.3.0)\n",
      "Requirement already satisfied: setuptools in e:\\software\\anaconda3\\lib\\site-packages (from tensorflow-intel==2.12.0->tensorflow) (65.6.3)\n",
      "Requirement already satisfied: flatbuffers>=2.0 in e:\\software\\anaconda3\\lib\\site-packages (from tensorflow-intel==2.12.0->tensorflow) (23.3.3)\n",
      "Requirement already satisfied: numpy<1.24,>=1.22 in e:\\software\\anaconda3\\lib\\site-packages (from tensorflow-intel==2.12.0->tensorflow) (1.23.5)\n",
      "Requirement already satisfied: absl-py>=1.0.0 in e:\\software\\anaconda3\\lib\\site-packages (from tensorflow-intel==2.12.0->tensorflow) (1.4.0)\n",
      "Requirement already satisfied: wrapt<1.15,>=1.11.0 in e:\\software\\anaconda3\\lib\\site-packages (from tensorflow-intel==2.12.0->tensorflow) (1.14.1)\n",
      "Requirement already satisfied: termcolor>=1.1.0 in e:\\software\\anaconda3\\lib\\site-packages (from tensorflow-intel==2.12.0->tensorflow) (2.2.0)\n",
      "Requirement already satisfied: gast<=0.4.0,>=0.2.1 in e:\\software\\anaconda3\\lib\\site-packages (from tensorflow-intel==2.12.0->tensorflow) (0.4.0)\n",
      "Requirement already satisfied: keras<2.13,>=2.12.0 in e:\\software\\anaconda3\\lib\\site-packages (from tensorflow-intel==2.12.0->tensorflow) (2.12.0)\n",
      "Requirement already satisfied: tensorboard<2.13,>=2.12 in e:\\software\\anaconda3\\lib\\site-packages (from tensorflow-intel==2.12.0->tensorflow) (2.12.2)\n",
      "Requirement already satisfied: jax>=0.3.15 in e:\\software\\anaconda3\\lib\\site-packages (from tensorflow-intel==2.12.0->tensorflow) (0.4.8)\n",
      "Requirement already satisfied: tensorflow-estimator<2.13,>=2.12.0 in e:\\software\\anaconda3\\lib\\site-packages (from tensorflow-intel==2.12.0->tensorflow) (2.12.0)\n",
      "Requirement already satisfied: grpcio<2.0,>=1.24.3 in e:\\software\\anaconda3\\lib\\site-packages (from tensorflow-intel==2.12.0->tensorflow) (1.54.0)\n",
      "Requirement already satisfied: protobuf!=4.21.0,!=4.21.1,!=4.21.2,!=4.21.3,!=4.21.4,!=4.21.5,<5.0.0dev,>=3.20.3 in e:\\software\\anaconda3\\lib\\site-packages (from tensorflow-intel==2.12.0->tensorflow) (4.22.3)\n",
      "Requirement already satisfied: libclang>=13.0.0 in e:\\software\\anaconda3\\lib\\site-packages (from tensorflow-intel==2.12.0->tensorflow) (16.0.0)\n",
      "Requirement already satisfied: google-pasta>=0.1.1 in e:\\software\\anaconda3\\lib\\site-packages (from tensorflow-intel==2.12.0->tensorflow) (0.2.0)\n",
      "Requirement already satisfied: astunparse>=1.6.0 in e:\\software\\anaconda3\\lib\\site-packages (from tensorflow-intel==2.12.0->tensorflow) (1.6.3)\n",
      "Requirement already satisfied: wheel<1.0,>=0.23.0 in e:\\software\\anaconda3\\lib\\site-packages (from astunparse>=1.6.0->tensorflow-intel==2.12.0->tensorflow) (0.38.4)\n",
      "Requirement already satisfied: ml-dtypes>=0.0.3 in e:\\software\\anaconda3\\lib\\site-packages (from jax>=0.3.15->tensorflow-intel==2.12.0->tensorflow) (0.1.0)\n",
      "Requirement already satisfied: scipy>=1.7 in e:\\software\\anaconda3\\lib\\site-packages (from jax>=0.3.15->tensorflow-intel==2.12.0->tensorflow) (1.10.0)\n",
      "Requirement already satisfied: tensorboard-data-server<0.8.0,>=0.7.0 in e:\\software\\anaconda3\\lib\\site-packages (from tensorboard<2.13,>=2.12->tensorflow-intel==2.12.0->tensorflow) (0.7.0)\n",
      "Requirement already satisfied: markdown>=2.6.8 in e:\\software\\anaconda3\\lib\\site-packages (from tensorboard<2.13,>=2.12->tensorflow-intel==2.12.0->tensorflow) (3.4.1)\n",
      "Requirement already satisfied: requests<3,>=2.21.0 in e:\\software\\anaconda3\\lib\\site-packages (from tensorboard<2.13,>=2.12->tensorflow-intel==2.12.0->tensorflow) (2.28.1)\n",
      "Requirement already satisfied: google-auth<3,>=1.6.3 in e:\\software\\anaconda3\\lib\\site-packages (from tensorboard<2.13,>=2.12->tensorflow-intel==2.12.0->tensorflow) (2.17.3)\n",
      "Requirement already satisfied: tensorboard-plugin-wit>=1.6.0 in e:\\software\\anaconda3\\lib\\site-packages (from tensorboard<2.13,>=2.12->tensorflow-intel==2.12.0->tensorflow) (1.8.1)\n",
      "Requirement already satisfied: google-auth-oauthlib<1.1,>=0.5 in e:\\software\\anaconda3\\lib\\site-packages (from tensorboard<2.13,>=2.12->tensorflow-intel==2.12.0->tensorflow) (1.0.0)\n",
      "Requirement already satisfied: werkzeug>=1.0.1 in e:\\software\\anaconda3\\lib\\site-packages (from tensorboard<2.13,>=2.12->tensorflow-intel==2.12.0->tensorflow) (2.2.2)\n",
      "Requirement already satisfied: pyasn1-modules>=0.2.1 in e:\\software\\anaconda3\\lib\\site-packages (from google-auth<3,>=1.6.3->tensorboard<2.13,>=2.12->tensorflow-intel==2.12.0->tensorflow) (0.2.8)\n",
      "Requirement already satisfied: rsa<5,>=3.1.4 in e:\\software\\anaconda3\\lib\\site-packages (from google-auth<3,>=1.6.3->tensorboard<2.13,>=2.12->tensorflow-intel==2.12.0->tensorflow) (4.9)\n",
      "Requirement already satisfied: cachetools<6.0,>=2.0.0 in e:\\software\\anaconda3\\lib\\site-packages (from google-auth<3,>=1.6.3->tensorboard<2.13,>=2.12->tensorflow-intel==2.12.0->tensorflow) (5.3.0)\n",
      "Requirement already satisfied: requests-oauthlib>=0.7.0 in e:\\software\\anaconda3\\lib\\site-packages (from google-auth-oauthlib<1.1,>=0.5->tensorboard<2.13,>=2.12->tensorflow-intel==2.12.0->tensorflow) (1.3.1)\n",
      "Requirement already satisfied: idna<4,>=2.5 in e:\\software\\anaconda3\\lib\\site-packages (from requests<3,>=2.21.0->tensorboard<2.13,>=2.12->tensorflow-intel==2.12.0->tensorflow) (3.4)\n",
      "Requirement already satisfied: certifi>=2017.4.17 in e:\\software\\anaconda3\\lib\\site-packages (from requests<3,>=2.21.0->tensorboard<2.13,>=2.12->tensorflow-intel==2.12.0->tensorflow) (2022.12.7)\n",
      "Requirement already satisfied: charset-normalizer<3,>=2 in e:\\software\\anaconda3\\lib\\site-packages (from requests<3,>=2.21.0->tensorboard<2.13,>=2.12->tensorflow-intel==2.12.0->tensorflow) (2.0.4)\n",
      "Requirement already satisfied: urllib3<1.27,>=1.21.1 in e:\\software\\anaconda3\\lib\\site-packages (from requests<3,>=2.21.0->tensorboard<2.13,>=2.12->tensorflow-intel==2.12.0->tensorflow) (1.26.14)\n",
      "Requirement already satisfied: MarkupSafe>=2.1.1 in e:\\software\\anaconda3\\lib\\site-packages (from werkzeug>=1.0.1->tensorboard<2.13,>=2.12->tensorflow-intel==2.12.0->tensorflow) (2.1.1)\n",
      "Requirement already satisfied: pyasn1<0.5.0,>=0.4.6 in e:\\software\\anaconda3\\lib\\site-packages (from pyasn1-modules>=0.2.1->google-auth<3,>=1.6.3->tensorboard<2.13,>=2.12->tensorflow-intel==2.12.0->tensorflow) (0.4.8)\n",
      "Requirement already satisfied: oauthlib>=3.0.0 in e:\\software\\anaconda3\\lib\\site-packages (from requests-oauthlib>=0.7.0->google-auth-oauthlib<1.1,>=0.5->tensorboard<2.13,>=2.12->tensorflow-intel==2.12.0->tensorflow) (3.2.2)\n"
     ]
    }
   ],
   "source": [
    "pip install tensorflow"
   ]
  },
  {
   "cell_type": "code",
   "execution_count": 1,
   "id": "293a900b",
   "metadata": {},
   "outputs": [],
   "source": [
    "import numpy as np\n",
    "import argparse\n",
    "import matplotlib.pyplot as plt\n",
    "import cv2\n",
    "from tensorflow.keras.models import Sequential\n",
    "from tensorflow.keras.layers import Dense, Dropout, Flatten\n",
    "from tensorflow.keras.layers import Conv2D\n",
    "from tensorflow.keras.optimizers import Adam\n",
    "from tensorflow.keras.layers import MaxPooling2D\n",
    "from tensorflow.keras.preprocessing.image import ImageDataGenerator\n",
    "from tensorflow.keras.layers import BatchNormalization\n",
    "import os"
   ]
  },
  {
   "cell_type": "code",
   "execution_count": 6,
   "id": "3e99a916",
   "metadata": {},
   "outputs": [],
   "source": [
    "train_data = 'E://Project/Emotion Detection/data/train'\n",
    "validate_data = 'E://Project/Emotion Detection/data/test'"
   ]
  },
  {
   "cell_type": "code",
   "execution_count": 7,
   "id": "65e86316",
   "metadata": {},
   "outputs": [],
   "source": [
    "train_data_gen = ImageDataGenerator (\n",
    "    rescale=1./255,\n",
    "    rotation_range=30,\n",
    "    shear_range=0.3,\n",
    "    zoom_range=0.3,\n",
    "    horizontal_flip= True,\n",
    "    fill_mode='nearest'\n",
    ")"
   ]
  },
  {
   "cell_type": "code",
   "execution_count": 8,
   "id": "9fbe5d89",
   "metadata": {},
   "outputs": [],
   "source": [
    "validate_data_gen= ImageDataGenerator(rescale=1./255)"
   ]
  },
  {
   "cell_type": "code",
   "execution_count": 9,
   "id": "89baa6bd",
   "metadata": {},
   "outputs": [
    {
     "name": "stdout",
     "output_type": "stream",
     "text": [
      "Found 28709 images belonging to 7 classes.\n"
     ]
    }
   ],
   "source": [
    "train_generate= train_data_gen.flow_from_directory(\n",
    "    train_data,\n",
    "    color_mode=\"grayscale\",\n",
    "    target_size=(48,48),\n",
    "    batch_size=32,\n",
    "    class_mode='categorical',\n",
    "    shuffle=True\n",
    ")"
   ]
  },
  {
   "cell_type": "code",
   "execution_count": 10,
   "id": "dd7b6fd3",
   "metadata": {},
   "outputs": [
    {
     "name": "stdout",
     "output_type": "stream",
     "text": [
      "Found 7178 images belonging to 7 classes.\n"
     ]
    }
   ],
   "source": [
    "validate_generate= validate_data_gen.flow_from_directory(\n",
    "    validate_data,\n",
    "    color_mode=\"grayscale\",\n",
    "    target_size=(48,48),\n",
    "    batch_size=32,\n",
    "    class_mode='categorical',\n",
    "    shuffle=True\n",
    ")"
   ]
  },
  {
   "cell_type": "code",
   "execution_count": 11,
   "id": "307be53c",
   "metadata": {},
   "outputs": [],
   "source": [
    "labels = ['angry', 'disgust', 'fear', 'happy','neutral', 'sad', 'surprise']"
   ]
  },
  {
   "cell_type": "code",
   "execution_count": 19,
   "id": "875ee974",
   "metadata": {},
   "outputs": [],
   "source": [
    "image, label= train_generate.__next__()"
   ]
  },
  {
   "cell_type": "code",
   "execution_count": 20,
   "id": "a0b05667",
   "metadata": {},
   "outputs": [
    {
     "name": "stdout",
     "output_type": "stream",
     "text": [
      "<bound method Model.summary of <keras.engine.sequential.Sequential object at 0x00000220661AD030>>\n"
     ]
    }
   ],
   "source": [
    "cnn_model = Sequential()\n",
    "cnn_model.add(Conv2D(32, kernel_size=(3, 3), activation='relu', padding='same', input_shape = (48, 48, 1)))\n",
    "\n",
    "cnn_model.add(Conv2D(64, kernel_size=(3, 3), activation='relu'))\n",
    "cnn_model.add(BatchNormalization())\n",
    "cnn_model.add(MaxPooling2D(pool_size=(2, 2), strides=(4, 4)))\n",
    "cnn_model.add(Dropout(0.2))\n",
    "\n",
    "cnn_model.add(Conv2D(128, kernel_size=(3, 3), activation='relu'))\n",
    "cnn_model.add(BatchNormalization())\n",
    "cnn_model.add(MaxPooling2D(pool_size=(2, 2), strides=(4, 4)))\n",
    "cnn_model.add(Dropout(0.2))\n",
    "\n",
    "cnn_model.add(Conv2D(256, kernel_size=(3, 3), activation='relu'))\n",
    "cnn_model.add(MaxPooling2D(pool_size=(2, 2), strides=(4, 4), padding='same'))\n",
    "cnn_model.add(Dropout(0.2))\n",
    "\n",
    "\n",
    "cnn_model.add(Flatten())\n",
    "cnn_model.add(Dense(512, activation='relu'))\n",
    "cnn_model.add(Dropout(0.2))\n",
    "\n",
    "cnn_model.add(Dense(7, activation='softmax'))\n",
    "\n",
    "cnn_model.compile(loss='categorical_crossentropy', optimizer= 'adam', metrics=['accuracy'])\n",
    "print(cnn_model.summary)"
   ]
  },
  {
   "cell_type": "code",
   "execution_count": 14,
   "id": "ae7b53ef",
   "metadata": {},
   "outputs": [
    {
     "name": "stdout",
     "output_type": "stream",
     "text": [
      "Epoch 1/30\n",
      "897/897 [==============================] - 805s 892ms/step - loss: 1.8132 - accuracy: 0.2505 - val_loss: 1.7374 - val_accuracy: 0.2866\n",
      "Epoch 2/30\n",
      "897/897 [==============================] - 279s 311ms/step - loss: 1.7459 - accuracy: 0.2885 - val_loss: 1.6530 - val_accuracy: 0.3467\n",
      "Epoch 3/30\n",
      "897/897 [==============================] - 410s 457ms/step - loss: 1.6986 - accuracy: 0.3182 - val_loss: 1.6030 - val_accuracy: 0.3655\n",
      "Epoch 4/30\n",
      "897/897 [==============================] - 137s 153ms/step - loss: 1.6531 - accuracy: 0.3440 - val_loss: 1.5234 - val_accuracy: 0.4132\n",
      "Epoch 5/30\n",
      "897/897 [==============================] - 146s 162ms/step - loss: 1.6111 - accuracy: 0.3625 - val_loss: 1.5032 - val_accuracy: 0.4146\n",
      "Epoch 6/30\n",
      "897/897 [==============================] - 140s 156ms/step - loss: 1.5889 - accuracy: 0.3785 - val_loss: 1.4984 - val_accuracy: 0.4167\n",
      "Epoch 7/30\n",
      "897/897 [==============================] - 140s 156ms/step - loss: 1.5694 - accuracy: 0.3883 - val_loss: 1.4730 - val_accuracy: 0.4237\n",
      "Epoch 8/30\n",
      "897/897 [==============================] - 140s 156ms/step - loss: 1.5487 - accuracy: 0.3922 - val_loss: 1.4352 - val_accuracy: 0.4378\n",
      "Epoch 9/30\n",
      "897/897 [==============================] - 140s 156ms/step - loss: 1.5245 - accuracy: 0.4020 - val_loss: 1.5081 - val_accuracy: 0.4116\n",
      "Epoch 10/30\n",
      "897/897 [==============================] - 140s 156ms/step - loss: 1.5108 - accuracy: 0.4090 - val_loss: 1.4183 - val_accuracy: 0.4535\n",
      "Epoch 11/30\n",
      "897/897 [==============================] - 139s 155ms/step - loss: 1.4939 - accuracy: 0.4177 - val_loss: 1.3467 - val_accuracy: 0.4785\n",
      "Epoch 12/30\n",
      "897/897 [==============================] - 141s 157ms/step - loss: 1.4847 - accuracy: 0.4190 - val_loss: 1.4036 - val_accuracy: 0.4634\n",
      "Epoch 13/30\n",
      "897/897 [==============================] - 497s 554ms/step - loss: 1.4745 - accuracy: 0.4268 - val_loss: 1.3751 - val_accuracy: 0.4703\n",
      "Epoch 14/30\n",
      "897/897 [==============================] - 292s 325ms/step - loss: 1.4648 - accuracy: 0.4316 - val_loss: 1.3449 - val_accuracy: 0.4852\n",
      "Epoch 15/30\n",
      "897/897 [==============================] - 248s 277ms/step - loss: 1.4555 - accuracy: 0.4365 - val_loss: 1.3020 - val_accuracy: 0.4987\n",
      "Epoch 16/30\n",
      "897/897 [==============================] - 622s 694ms/step - loss: 1.4453 - accuracy: 0.4410 - val_loss: 1.3154 - val_accuracy: 0.4923\n",
      "Epoch 17/30\n",
      "897/897 [==============================] - 138s 154ms/step - loss: 1.4397 - accuracy: 0.4436 - val_loss: 1.3389 - val_accuracy: 0.4863\n",
      "Epoch 18/30\n",
      "897/897 [==============================] - 137s 153ms/step - loss: 1.4274 - accuracy: 0.4495 - val_loss: 1.2890 - val_accuracy: 0.5045\n",
      "Epoch 19/30\n",
      "897/897 [==============================] - 137s 152ms/step - loss: 1.4180 - accuracy: 0.4517 - val_loss: 1.2884 - val_accuracy: 0.5109\n",
      "Epoch 20/30\n",
      "897/897 [==============================] - 137s 152ms/step - loss: 1.4089 - accuracy: 0.4605 - val_loss: 1.2841 - val_accuracy: 0.5173\n",
      "Epoch 21/30\n",
      "897/897 [==============================] - 139s 155ms/step - loss: 1.4053 - accuracy: 0.4564 - val_loss: 1.2656 - val_accuracy: 0.5089\n",
      "Epoch 22/30\n",
      "897/897 [==============================] - 137s 153ms/step - loss: 1.3970 - accuracy: 0.4642 - val_loss: 1.2552 - val_accuracy: 0.5130\n",
      "Epoch 23/30\n",
      "897/897 [==============================] - 400s 446ms/step - loss: 1.3904 - accuracy: 0.4676 - val_loss: 1.2371 - val_accuracy: 0.5266\n",
      "Epoch 24/30\n",
      "897/897 [==============================] - 829s 924ms/step - loss: 1.3866 - accuracy: 0.4664 - val_loss: 1.2478 - val_accuracy: 0.5254\n",
      "Epoch 25/30\n",
      "897/897 [==============================] - 823s 917ms/step - loss: 1.3750 - accuracy: 0.4679 - val_loss: 1.2316 - val_accuracy: 0.5297\n",
      "Epoch 26/30\n",
      "897/897 [==============================] - 676s 754ms/step - loss: 1.3724 - accuracy: 0.4713 - val_loss: 1.2360 - val_accuracy: 0.5250\n",
      "Epoch 27/30\n",
      "897/897 [==============================] - 333s 372ms/step - loss: 1.3690 - accuracy: 0.4734 - val_loss: 1.2307 - val_accuracy: 0.5287\n",
      "Epoch 28/30\n",
      "897/897 [==============================] - 142s 158ms/step - loss: 1.3634 - accuracy: 0.4750 - val_loss: 1.2348 - val_accuracy: 0.5246\n",
      "Epoch 29/30\n",
      "897/897 [==============================] - 447s 498ms/step - loss: 1.3552 - accuracy: 0.4781 - val_loss: 1.2365 - val_accuracy: 0.5321\n",
      "Epoch 30/30\n",
      "897/897 [==============================] - 586s 653ms/step - loss: 1.3546 - accuracy: 0.4775 - val_loss: 1.2440 - val_accuracy: 0.5294\n"
     ]
    }
   ],
   "source": [
    "train_path = 'E://Project/Emotion Detection/data/train'\n",
    "test_path = 'E://Project/Emotion Detection/data/test'\n",
    "\n",
    "num_train_imgs = 0\n",
    "for root, dir, files in os.walk(train_path):\n",
    "    num_train_imgs += len(files)\n",
    "\n",
    "num_test_imgs = 0\n",
    "for root, dir, files in os.walk(test_path):\n",
    "    num_test_imgs += len(files)\n",
    "\n",
    "epochs=30\n",
    "cnn_history = cnn_model.fit(train_generate, \n",
    "                            steps_per_epoch=num_train_imgs//32 , \n",
    "                            epochs=epochs, \n",
    "                            validation_data=validate_generate, \n",
    "                            validation_steps=num_test_imgs//32,\n",
    "                            verbose=1, \n",
    "                            shuffle=True)"
   ]
  },
  {
   "cell_type": "code",
   "execution_count": 28,
   "id": "843a9493",
   "metadata": {},
   "outputs": [],
   "source": [
    "cnn_model.save('cnn_model.h5')"
   ]
  },
  {
   "cell_type": "code",
   "execution_count": null,
   "id": "bea4890f",
   "metadata": {},
   "outputs": [],
   "source": []
  }
 ],
 "metadata": {
  "kernelspec": {
   "display_name": "Python 3 (ipykernel)",
   "language": "python",
   "name": "python3"
  },
  "language_info": {
   "codemirror_mode": {
    "name": "ipython",
    "version": 3
   },
   "file_extension": ".py",
   "mimetype": "text/x-python",
   "name": "python",
   "nbconvert_exporter": "python",
   "pygments_lexer": "ipython3",
   "version": "3.10.9"
  }
 },
 "nbformat": 4,
 "nbformat_minor": 5
}
